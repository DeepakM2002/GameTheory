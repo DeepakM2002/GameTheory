{
 "cells": [
  {
   "cell_type": "code",
   "execution_count": 28,
   "metadata": {},
   "outputs": [],
   "source": [
    "from itertools import product\n",
    "import numpy as np\n",
    "import random \n",
    "import matplotlib.pyplot as plt\n",
    "import pandas as pd\n",
    "from collections import Counter\n",
    "\n",
    "def sum_pairs(S):\n",
    "    pairs = []\n",
    "    for i in range(S+1):\n",
    "        pair = np.array([i, S-i])\n",
    "        pairs.append(pair)\n",
    "    return pairs\n",
    "\n",
    "\n",
    "def get_strategies(N, S):\n",
    "    pure_strats = []\n",
    "    #First battlefield value is i\n",
    "    for i in range(S+1):\n",
    "        #Other battlefields \n",
    "        #values \n",
    "        for j in sum_pairs(S -i):\n",
    "            pure_strats.append(tuple(np.insert(j, 0, i)))\n",
    "    return((pure_strats))\n",
    "\n",
    "ids = np.arange(0, 21)\n",
    "strats = get_strategies(3, 5)\n"
   ]
  },
  {
   "cell_type": "code",
   "execution_count": 32,
   "metadata": {},
   "outputs": [],
   "source": [
    "def select_strat(strats, regret_vector):\n",
    "    # if all zeros in vector - make uniform probability distribution\n",
    "    if np.count_nonzero(regret_vector) == 0:\n",
    "        prob_vec = np.ones(21)\n",
    "\n",
    "    # turn regret vector into probability vector if not all zeros.\n",
    "    else:\n",
    "        prob_vec = regret_vector\n",
    "    \n",
    "    play = random.choices(ids, weights = prob_vec)\n",
    "    return strats[play[0]], play\n",
    "\n",
    "\n",
    "def aggregate_payoff(p1_move, p2_move):\n",
    "\n",
    "    p1_wins = 0\n",
    "    p2_wins = 0\n",
    "    for p1, p2 in zip(p1_move, p2_move):\n",
    "        if p1 > p2:\n",
    "            p1_wins += 1\n",
    "        elif p2 > p1:\n",
    "            p2_wins += 1\n",
    "\n",
    "    if p1_wins > p2_wins:\n",
    "        return +1\n",
    "    elif p2_wins > p1_wins:\n",
    "        return -1\n",
    "    else:\n",
    "        return 0\n",
    "    \n",
    "    \n",
    "    \n",
    "def update_regret_vector(regret_vector, strats, p1_strat, p2_strat, t):\n",
    "\n",
    "    game_payoff = aggregate_payoff(p1_strat, p2_strat)\n",
    "\n",
    "    #Iteratively updating the regret vector\n",
    "    updated_regret_vector = [\n",
    "        val + (aggregate_payoff(strats[idx], p2_strat) -\n",
    "               game_payoff) for idx, val in enumerate(regret_vector)\n",
    "    ]\n",
    "\n",
    "    # Make negative numbers zero \n",
    "    pos_regret_vector = [val if val > 0 else 0 for val in updated_regret_vector]\n",
    "\n",
    "    return pos_regret_vector"
   ]
  },
  {
   "cell_type": "code",
   "execution_count": 34,
   "metadata": {},
   "outputs": [],
   "source": [
    "n_iter = 100000\n",
    "N = 3\n",
    "S = 5\n",
    "\n",
    "p1_moves = get_strategies(N, S)\n",
    "p2_moves = get_strategies(N, S)\n",
    "\n",
    "p1_regret = np.zeros(21)\n",
    "p2_regret = np.zeros(21)\n",
    "\n",
    "p1_average_strategy = np.zeros(21)\n",
    "p2_average_strategy = np.zeros(21)\n",
    "\n",
    "regret_list = []\n",
    "\n",
    "joint_actions = []\n",
    "for t in range(n_iter):\n",
    "    #Picking new strategy\n",
    "    p1_move, p1_index = select_strat(p1_moves, p1_regret)\n",
    "    p2_move, p2_index = select_strat(p2_moves, p2_regret)\n",
    "    \n",
    "    #Counter for strategies used\n",
    "    p1_average_strategy[p1_index] += 1\n",
    "    p2_average_strategy[p2_index] += 1\n",
    "\n",
    "    #Store joint distribution\n",
    "    joint_actions.append((p1_index[0], p2_index[0]))\n",
    "\n",
    "    #How quick does the regret go to 0?\n",
    "    sum_regret = 0\n",
    "    p1_pos_regret = [val if val > 0 else 0 for val in p1_regret]\n",
    "    p2_pos_regret = [val if val > 0 else 0 for val in p2_regret]\n",
    "    regret_list.append(sum(np.array(p1_pos_regret)))\n",
    "\n",
    "    #Update regret\n",
    "    p1_regret = update_regret_vector(p1_regret, p1_moves,\n",
    "                                            p1_move, p2_move, t)\n",
    "    p2_regret = update_regret_vector(p2_regret, p2_moves,\n",
    "                                            p2_move, p1_move, t)\n",
    "    \n",
    "\n",
    "joint_dist = np.zeros((21,21))\n",
    "i = 0\n",
    "for x in list(Counter(joint_actions)):\n",
    "    joint_dist[x[0]][x[1]] = list(Counter(joint_actions).values())[i]\n",
    "    i += 1\n",
    "\n",
    "joint_dist = joint_dist/n_iter\n",
    "\n"
   ]
  },
  {
   "cell_type": "code",
   "execution_count": 21,
   "metadata": {},
   "outputs": [
    {
     "data": {
      "image/png": "[encoded data removed]",
      "text/plain": [
       "<Figure size 432x288 with 2 Axes>"
      ]
     },
     "metadata": {
      "needs_background": "light"
     },
     "output_type": "display_data"
    }
   ],
   "source": [
    "x = np.arange(0, 21)\n",
    "y = np.arange(0, 21)\n",
    "lX,lY = np.meshgrid(x,y)\n",
    "\n",
    "\n",
    "plt.pcolormesh(lX,lY,joint_dist)\n",
    "plt.colorbar()\n",
    "\n",
    "plt.show()\n"
   ]
  },
  {
   "cell_type": "code",
   "execution_count": 22,
   "metadata": {},
   "outputs": [],
   "source": [
    "score = []\n",
    "for i in range(21):\n",
    "    for j in range(21):\n",
    "            score.append(np.sum(np.array(strats[i]) > np.array(strats[j])))\n",
    "\n",
    "score = np.array(score)\n",
    "payoff = score.reshape(21, 21)\n",
    "payoff -= np.transpose(payoff)\n",
    "\n",
    "\n",
    "\n",
    "def rowsums(i,i_):\n",
    "    total1 = 0\n",
    "    total2 = 0\n",
    "    for k in range(21):\n",
    "        total1 += payoff[i][k] * joint_dist[i][k]\n",
    "        total2 += payoff[i_][k] * joint_dist[i][k]\n",
    "\n",
    "    return total1, total2\n",
    "\n",
    "def isCE(mat):\n",
    "    sums = []\n",
    "    indexes1 = []\n",
    "    indexes2 = []\n",
    "\n",
    "    for i in range(21):\n",
    "        for i_ in range(21):\n",
    "            if rowsums(i,i_)[1] > rowsums(i,i_)[0]:\n",
    "                sums.append(rowsums(i,i_))\n",
    "                indexes1.append((i,i_))\n",
    "\n",
    "    return sums, indexes1\n"
   ]
  },
  {
   "cell_type": "code",
   "execution_count": 36,
   "metadata": {},
   "outputs": [
    {
     "data": {
      "image/png": "[encoded data removed]",
      "text/plain": [
       "<Figure size 432x288 with 1 Axes>"
      ]
     },
     "metadata": {
      "needs_background": "light"
     },
     "output_type": "display_data"
    }
   ],
   "source": [
    "plt.plot([i for i in range(n_iter)], regret_list)\n",
    "plt.show()"
   ]
  },
  {
   "cell_type": "code",
   "execution_count": null,
   "metadata": {},
   "outputs": [],
   "source": [
    "def select_strat(strats, regret_vector):\n",
    "    # if all zeros in vector - make uniform probability distribution\n",
    "    if np.count_nonzero(regret_vector) == 0:\n",
    "        prob_vec = np.ones(21)\n",
    "\n",
    "    # turn regret vector into probability vector if not all zeros.\n",
    "    else:\n",
    "        prob_vec = regret_vector\n",
    "    \n",
    "    play = random.choices(ids, weights = prob_vec)\n",
    "    return strats[play[0]], play"
   ]
  }
 ],
 "metadata": {
  "kernelspec": {
   "display_name": "Python 3.9.10 64-bit",
   "language": "python",
   "name": "python3"
  },
  "language_info": {
   "codemirror_mode": {
    "name": "ipython",
    "version": 3
   },
   "file_extension": ".py",
   "mimetype": "text/x-python",
   "name": "python",
   "nbconvert_exporter": "python",
   "pygments_lexer": "ipython3",
   "version": "3.9.10"
  },
  "orig_nbformat": 4,
  "vscode": {
   "interpreter": {
    "hash": "b0fa6594d8f4cbf19f97940f81e996739fb7646882a419484c72d19e05852a7e"
   }
  }
 },
 "nbformat": 4,
 "nbformat_minor": 2
}
